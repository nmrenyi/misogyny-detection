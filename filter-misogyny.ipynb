{
 "cells": [
  {
   "cell_type": "code",
   "execution_count": 1,
   "metadata": {},
   "outputs": [],
   "source": [
    "import re"
   ]
  },
  {
   "cell_type": "code",
   "execution_count": 2,
   "metadata": {},
   "outputs": [],
   "source": [
    "# regex pattern from Bich Ngoc Doan https://github.com/ngoccc/test-analysis/blob/main/explore_misogynistic.ipynb\n",
    "\n",
    "misogynistic_keywords = [\n",
    "    # Gendered stereotypes and roles\n",
    "    r'\\b(women|girls)\\b.*(drivers?|kitchen|garage|cooking|dishwasher|cleaning|crying|nagging|shopping|emotional|crazy|hysterical|illogical)',\n",
    "    \n",
    "    # Comparison-based phrases that demean women\n",
    "    r'\\b(men|man|guys|boys) (better|smarter|stronger|faster|more logical) (than|as) (women|girls)',\n",
    "    \n",
    "    # Objectifying language or sexual references\n",
    "    r'\\b(my|your|his|her|our) (girlfriend|wife|woman|daughter)\\b.*(body|boobs|butt|legs|vagina|sex|fuck|whore|bitch)',\n",
    "    \n",
    "    # \"Back to the kitchen\" trope\n",
    "    r'\\b(back to the kitchen|stay in the kitchen|only place for women|belong in the kitchen|back in the kitchen)',\n",
    "    \n",
    "    # Dismissive phrases about women's logic or abilities\n",
    "    r'\\b(women logic|woman logic|female logic|illogical women|women and logic)',\n",
    "    \n",
    "    # Financial dependence or derogatory terms suggesting women are burdens\n",
    "    r'\\b(make you a millionaire|cost me|gold digger|all my money|high maintenance|expensive to keep|drain my wallet)',\n",
    "    \n",
    "    # Implicit gendered expectations or objectifying acronyms\n",
    "    r'\\b(W\\.I\\.F\\.E\\.)\\b|\\b(WIFE\\b.*(washing|ironing|cleaning|etc))',\n",
    "    \n",
    "    # Undermining phrases for women’s achievements or dismissive statements\n",
    "    r'\\b(the reason i preach|feminazi|feminist logic|rape culture)',\n",
    "    \n",
    "    # Gendered and dismissive phrases targeting appearance or personality\n",
    "    r'\\b(bitches|hoes|slutty|crazy ex|high maintenance|too emotional|drama queen|gold digger)\\b'\n",
    "]\n",
    "\n",
    "# Combine all patterns into one regex pattern\n",
    "misogyny_pattern = re.compile('|'.join(misogynistic_keywords), re.IGNORECASE)"
   ]
  }
 ],
 "metadata": {
  "kernelspec": {
   "display_name": "ada",
   "language": "python",
   "name": "python3"
  },
  "language_info": {
   "codemirror_mode": {
    "name": "ipython",
    "version": 3
   },
   "file_extension": ".py",
   "mimetype": "text/x-python",
   "name": "python",
   "nbconvert_exporter": "python",
   "pygments_lexer": "ipython3",
   "version": "3.12.6"
  }
 },
 "nbformat": 4,
 "nbformat_minor": 2
}
